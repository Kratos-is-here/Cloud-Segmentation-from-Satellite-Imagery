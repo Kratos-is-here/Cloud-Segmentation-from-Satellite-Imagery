{
 "cells": [
  {
   "cell_type": "code",
   "execution_count": 3,
   "id": "f9f3dd91-9bc0-4a9b-b679-94863aaff014",
   "metadata": {},
   "outputs": [],
   "source": [
    "from cloud_dataset import CloudDataset\n",
    "from losses import intersection_over_union\n",
    "import pandas as pd\n",
    "import matplotlib.pyplot as plt\n",
    "import xrspatial.multispectral as ms\n",
    "import torch\n",
    "import rioxarray\n",
    "from torch.utils.data import DataLoader\n",
    "import torchvision.transforms.functional as TF\n",
    "import torch.nn as nn\n",
    "import numpy as np\n",
    "import torch.optim as optim\n",
    "import multiprocessing\n",
    "import warnings\n",
    "warnings.filterwarnings(\"ignore\")\n",
    "import torchvision.transforms as transforms\n",
    "from PIL import Image as im\n",
    "from tqdm.notebook import tqdm_notebook\n",
    "import torch.nn.functional as F\n",
    "import albumentations as A\n",
    "from albumentations.pytorch.transforms import ToTensorV2\n",
    "import segmentation_models_pytorch as smp"
   ]
  },
  {
   "cell_type": "code",
   "execution_count": 4,
   "id": "463505e4-5515-4144-bdb0-3b77f26bc4cb",
   "metadata": {},
   "outputs": [
    {
     "data": {
      "text/plain": [
       "'cuda'"
      ]
     },
     "execution_count": 4,
     "metadata": {},
     "output_type": "execute_result"
    }
   ],
   "source": [
    "device = \"cuda\" if torch.cuda.is_available() else \"cpu\"\n",
    "device"
   ]
  },
  {
   "cell_type": "code",
   "execution_count": 5,
   "id": "8c1cc394-57c4-4700-a250-907c4e5cc34b",
   "metadata": {},
   "outputs": [],
   "source": [
    "BANDS = [\"B02\", \"B03\", \"B04\", \"B08\"]"
   ]
  },
  {
   "cell_type": "code",
   "execution_count": 6,
   "id": "8b34f256-d790-4b6b-9b31-290af52e298e",
   "metadata": {},
   "outputs": [],
   "source": [
    "train_x = pd.read_csv(\"data/train_x.csv\").drop(columns = \"Unnamed: 0\")\n",
    "train_y = pd.read_csv(\"data/train_y.csv\").drop(columns = \"Unnamed: 0\")  \n",
    "val_x = pd.read_csv(\"data/val_x.csv\").drop(columns = \"Unnamed: 0\")    \n",
    "val_y = pd.read_csv(\"data/val_y.csv\").drop(columns = \"Unnamed: 0\")"
   ]
  },
  {
   "cell_type": "code",
   "execution_count": 7,
   "id": "f9ff847c-4c29-4df6-a648-16168a3bf7a9",
   "metadata": {},
   "outputs": [
    {
     "data": {
      "text/html": [
       "<div>\n",
       "<style scoped>\n",
       "    .dataframe tbody tr th:only-of-type {\n",
       "        vertical-align: middle;\n",
       "    }\n",
       "\n",
       "    .dataframe tbody tr th {\n",
       "        vertical-align: top;\n",
       "    }\n",
       "\n",
       "    .dataframe thead th {\n",
       "        text-align: right;\n",
       "    }\n",
       "</style>\n",
       "<table border=\"1\" class=\"dataframe\">\n",
       "  <thead>\n",
       "    <tr style=\"text-align: right;\">\n",
       "      <th></th>\n",
       "      <th>chip_id</th>\n",
       "      <th>B02_path</th>\n",
       "      <th>B03_path</th>\n",
       "      <th>B04_path</th>\n",
       "      <th>B08_path</th>\n",
       "    </tr>\n",
       "  </thead>\n",
       "  <tbody>\n",
       "    <tr>\n",
       "      <th>0</th>\n",
       "      <td>adwp</td>\n",
       "      <td>/driven-data/cloud-cover/train_features/adwp/B...</td>\n",
       "      <td>/driven-data/cloud-cover/train_features/adwp/B...</td>\n",
       "      <td>/driven-data/cloud-cover/train_features/adwp/B...</td>\n",
       "      <td>/driven-data/cloud-cover/train_features/adwp/B...</td>\n",
       "    </tr>\n",
       "    <tr>\n",
       "      <th>1</th>\n",
       "      <td>adwu</td>\n",
       "      <td>/driven-data/cloud-cover/train_features/adwu/B...</td>\n",
       "      <td>/driven-data/cloud-cover/train_features/adwu/B...</td>\n",
       "      <td>/driven-data/cloud-cover/train_features/adwu/B...</td>\n",
       "      <td>/driven-data/cloud-cover/train_features/adwu/B...</td>\n",
       "    </tr>\n",
       "    <tr>\n",
       "      <th>2</th>\n",
       "      <td>adxp</td>\n",
       "      <td>/driven-data/cloud-cover/train_features/adxp/B...</td>\n",
       "      <td>/driven-data/cloud-cover/train_features/adxp/B...</td>\n",
       "      <td>/driven-data/cloud-cover/train_features/adxp/B...</td>\n",
       "      <td>/driven-data/cloud-cover/train_features/adxp/B...</td>\n",
       "    </tr>\n",
       "    <tr>\n",
       "      <th>3</th>\n",
       "      <td>aeaj</td>\n",
       "      <td>/driven-data/cloud-cover/train_features/aeaj/B...</td>\n",
       "      <td>/driven-data/cloud-cover/train_features/aeaj/B...</td>\n",
       "      <td>/driven-data/cloud-cover/train_features/aeaj/B...</td>\n",
       "      <td>/driven-data/cloud-cover/train_features/aeaj/B...</td>\n",
       "    </tr>\n",
       "    <tr>\n",
       "      <th>4</th>\n",
       "      <td>aeap</td>\n",
       "      <td>/driven-data/cloud-cover/train_features/aeap/B...</td>\n",
       "      <td>/driven-data/cloud-cover/train_features/aeap/B...</td>\n",
       "      <td>/driven-data/cloud-cover/train_features/aeap/B...</td>\n",
       "      <td>/driven-data/cloud-cover/train_features/aeap/B...</td>\n",
       "    </tr>\n",
       "    <tr>\n",
       "      <th>...</th>\n",
       "      <td>...</td>\n",
       "      <td>...</td>\n",
       "      <td>...</td>\n",
       "      <td>...</td>\n",
       "      <td>...</td>\n",
       "    </tr>\n",
       "    <tr>\n",
       "      <th>7866</th>\n",
       "      <td>zxpu</td>\n",
       "      <td>/driven-data/cloud-cover/train_features/zxpu/B...</td>\n",
       "      <td>/driven-data/cloud-cover/train_features/zxpu/B...</td>\n",
       "      <td>/driven-data/cloud-cover/train_features/zxpu/B...</td>\n",
       "      <td>/driven-data/cloud-cover/train_features/zxpu/B...</td>\n",
       "    </tr>\n",
       "    <tr>\n",
       "      <th>7867</th>\n",
       "      <td>zxwv</td>\n",
       "      <td>/driven-data/cloud-cover/train_features/zxwv/B...</td>\n",
       "      <td>/driven-data/cloud-cover/train_features/zxwv/B...</td>\n",
       "      <td>/driven-data/cloud-cover/train_features/zxwv/B...</td>\n",
       "      <td>/driven-data/cloud-cover/train_features/zxwv/B...</td>\n",
       "    </tr>\n",
       "    <tr>\n",
       "      <th>7868</th>\n",
       "      <td>zxxo</td>\n",
       "      <td>/driven-data/cloud-cover/train_features/zxxo/B...</td>\n",
       "      <td>/driven-data/cloud-cover/train_features/zxxo/B...</td>\n",
       "      <td>/driven-data/cloud-cover/train_features/zxxo/B...</td>\n",
       "      <td>/driven-data/cloud-cover/train_features/zxxo/B...</td>\n",
       "    </tr>\n",
       "    <tr>\n",
       "      <th>7869</th>\n",
       "      <td>zxym</td>\n",
       "      <td>/driven-data/cloud-cover/train_features/zxym/B...</td>\n",
       "      <td>/driven-data/cloud-cover/train_features/zxym/B...</td>\n",
       "      <td>/driven-data/cloud-cover/train_features/zxym/B...</td>\n",
       "      <td>/driven-data/cloud-cover/train_features/zxym/B...</td>\n",
       "    </tr>\n",
       "    <tr>\n",
       "      <th>7870</th>\n",
       "      <td>zxza</td>\n",
       "      <td>/driven-data/cloud-cover/train_features/zxza/B...</td>\n",
       "      <td>/driven-data/cloud-cover/train_features/zxza/B...</td>\n",
       "      <td>/driven-data/cloud-cover/train_features/zxza/B...</td>\n",
       "      <td>/driven-data/cloud-cover/train_features/zxza/B...</td>\n",
       "    </tr>\n",
       "  </tbody>\n",
       "</table>\n",
       "<p>7871 rows × 5 columns</p>\n",
       "</div>"
      ],
      "text/plain": [
       "     chip_id                                           B02_path  \\\n",
       "0       adwp  /driven-data/cloud-cover/train_features/adwp/B...   \n",
       "1       adwu  /driven-data/cloud-cover/train_features/adwu/B...   \n",
       "2       adxp  /driven-data/cloud-cover/train_features/adxp/B...   \n",
       "3       aeaj  /driven-data/cloud-cover/train_features/aeaj/B...   \n",
       "4       aeap  /driven-data/cloud-cover/train_features/aeap/B...   \n",
       "...      ...                                                ...   \n",
       "7866    zxpu  /driven-data/cloud-cover/train_features/zxpu/B...   \n",
       "7867    zxwv  /driven-data/cloud-cover/train_features/zxwv/B...   \n",
       "7868    zxxo  /driven-data/cloud-cover/train_features/zxxo/B...   \n",
       "7869    zxym  /driven-data/cloud-cover/train_features/zxym/B...   \n",
       "7870    zxza  /driven-data/cloud-cover/train_features/zxza/B...   \n",
       "\n",
       "                                               B03_path  \\\n",
       "0     /driven-data/cloud-cover/train_features/adwp/B...   \n",
       "1     /driven-data/cloud-cover/train_features/adwu/B...   \n",
       "2     /driven-data/cloud-cover/train_features/adxp/B...   \n",
       "3     /driven-data/cloud-cover/train_features/aeaj/B...   \n",
       "4     /driven-data/cloud-cover/train_features/aeap/B...   \n",
       "...                                                 ...   \n",
       "7866  /driven-data/cloud-cover/train_features/zxpu/B...   \n",
       "7867  /driven-data/cloud-cover/train_features/zxwv/B...   \n",
       "7868  /driven-data/cloud-cover/train_features/zxxo/B...   \n",
       "7869  /driven-data/cloud-cover/train_features/zxym/B...   \n",
       "7870  /driven-data/cloud-cover/train_features/zxza/B...   \n",
       "\n",
       "                                               B04_path  \\\n",
       "0     /driven-data/cloud-cover/train_features/adwp/B...   \n",
       "1     /driven-data/cloud-cover/train_features/adwu/B...   \n",
       "2     /driven-data/cloud-cover/train_features/adxp/B...   \n",
       "3     /driven-data/cloud-cover/train_features/aeaj/B...   \n",
       "4     /driven-data/cloud-cover/train_features/aeap/B...   \n",
       "...                                                 ...   \n",
       "7866  /driven-data/cloud-cover/train_features/zxpu/B...   \n",
       "7867  /driven-data/cloud-cover/train_features/zxwv/B...   \n",
       "7868  /driven-data/cloud-cover/train_features/zxxo/B...   \n",
       "7869  /driven-data/cloud-cover/train_features/zxym/B...   \n",
       "7870  /driven-data/cloud-cover/train_features/zxza/B...   \n",
       "\n",
       "                                               B08_path  \n",
       "0     /driven-data/cloud-cover/train_features/adwp/B...  \n",
       "1     /driven-data/cloud-cover/train_features/adwu/B...  \n",
       "2     /driven-data/cloud-cover/train_features/adxp/B...  \n",
       "3     /driven-data/cloud-cover/train_features/aeaj/B...  \n",
       "4     /driven-data/cloud-cover/train_features/aeap/B...  \n",
       "...                                                 ...  \n",
       "7866  /driven-data/cloud-cover/train_features/zxpu/B...  \n",
       "7867  /driven-data/cloud-cover/train_features/zxwv/B...  \n",
       "7868  /driven-data/cloud-cover/train_features/zxxo/B...  \n",
       "7869  /driven-data/cloud-cover/train_features/zxym/B...  \n",
       "7870  /driven-data/cloud-cover/train_features/zxza/B...  \n",
       "\n",
       "[7871 rows x 5 columns]"
      ]
     },
     "execution_count": 7,
     "metadata": {},
     "output_type": "execute_result"
    }
   ],
   "source": [
    "train_x"
   ]
  },
  {
   "cell_type": "code",
   "execution_count": 5,
   "id": "486e67de-add2-4e11-b58a-cc51db206329",
   "metadata": {},
   "outputs": [],
   "source": [
    "all_x = pd.concat([train_x, val_x], axis = 0).reset_index()\n",
    "all_y = pd.concat([train_y, val_y], axis = 0).reset_index()"
   ]
  },
  {
   "cell_type": "code",
   "execution_count": 6,
   "id": "98a988c9-75d7-4830-9b00-a2d9a8c24ec1",
   "metadata": {},
   "outputs": [
    {
     "data": {
      "text/html": [
       "<div>\n",
       "<style scoped>\n",
       "    .dataframe tbody tr th:only-of-type {\n",
       "        vertical-align: middle;\n",
       "    }\n",
       "\n",
       "    .dataframe tbody tr th {\n",
       "        vertical-align: top;\n",
       "    }\n",
       "\n",
       "    .dataframe thead th {\n",
       "        text-align: right;\n",
       "    }\n",
       "</style>\n",
       "<table border=\"1\" class=\"dataframe\">\n",
       "  <thead>\n",
       "    <tr style=\"text-align: right;\">\n",
       "      <th></th>\n",
       "      <th>index</th>\n",
       "      <th>chip_id</th>\n",
       "      <th>label_path</th>\n",
       "    </tr>\n",
       "  </thead>\n",
       "  <tbody>\n",
       "    <tr>\n",
       "      <th>0</th>\n",
       "      <td>0</td>\n",
       "      <td>adwp</td>\n",
       "      <td>/driven-data/cloud-cover/train_labels/adwp.tif</td>\n",
       "    </tr>\n",
       "    <tr>\n",
       "      <th>1</th>\n",
       "      <td>1</td>\n",
       "      <td>adwu</td>\n",
       "      <td>/driven-data/cloud-cover/train_labels/adwu.tif</td>\n",
       "    </tr>\n",
       "    <tr>\n",
       "      <th>2</th>\n",
       "      <td>2</td>\n",
       "      <td>adxp</td>\n",
       "      <td>/driven-data/cloud-cover/train_labels/adxp.tif</td>\n",
       "    </tr>\n",
       "    <tr>\n",
       "      <th>3</th>\n",
       "      <td>3</td>\n",
       "      <td>aeaj</td>\n",
       "      <td>/driven-data/cloud-cover/train_labels/aeaj.tif</td>\n",
       "    </tr>\n",
       "    <tr>\n",
       "      <th>4</th>\n",
       "      <td>4</td>\n",
       "      <td>aeap</td>\n",
       "      <td>/driven-data/cloud-cover/train_labels/aeap.tif</td>\n",
       "    </tr>\n",
       "    <tr>\n",
       "      <th>...</th>\n",
       "      <td>...</td>\n",
       "      <td>...</td>\n",
       "      <td>...</td>\n",
       "    </tr>\n",
       "    <tr>\n",
       "      <th>11743</th>\n",
       "      <td>3872</td>\n",
       "      <td>zxrt</td>\n",
       "      <td>/driven-data/cloud-cover/train_labels/zxrt.tif</td>\n",
       "    </tr>\n",
       "    <tr>\n",
       "      <th>11744</th>\n",
       "      <td>3873</td>\n",
       "      <td>zxsj</td>\n",
       "      <td>/driven-data/cloud-cover/train_labels/zxsj.tif</td>\n",
       "    </tr>\n",
       "    <tr>\n",
       "      <th>11745</th>\n",
       "      <td>3874</td>\n",
       "      <td>zxuw</td>\n",
       "      <td>/driven-data/cloud-cover/train_labels/zxuw.tif</td>\n",
       "    </tr>\n",
       "    <tr>\n",
       "      <th>11746</th>\n",
       "      <td>3875</td>\n",
       "      <td>zxvi</td>\n",
       "      <td>/driven-data/cloud-cover/train_labels/zxvi.tif</td>\n",
       "    </tr>\n",
       "    <tr>\n",
       "      <th>11747</th>\n",
       "      <td>3876</td>\n",
       "      <td>zxzj</td>\n",
       "      <td>/driven-data/cloud-cover/train_labels/zxzj.tif</td>\n",
       "    </tr>\n",
       "  </tbody>\n",
       "</table>\n",
       "<p>11748 rows × 3 columns</p>\n",
       "</div>"
      ],
      "text/plain": [
       "       index chip_id                                      label_path\n",
       "0          0    adwp  /driven-data/cloud-cover/train_labels/adwp.tif\n",
       "1          1    adwu  /driven-data/cloud-cover/train_labels/adwu.tif\n",
       "2          2    adxp  /driven-data/cloud-cover/train_labels/adxp.tif\n",
       "3          3    aeaj  /driven-data/cloud-cover/train_labels/aeaj.tif\n",
       "4          4    aeap  /driven-data/cloud-cover/train_labels/aeap.tif\n",
       "...      ...     ...                                             ...\n",
       "11743   3872    zxrt  /driven-data/cloud-cover/train_labels/zxrt.tif\n",
       "11744   3873    zxsj  /driven-data/cloud-cover/train_labels/zxsj.tif\n",
       "11745   3874    zxuw  /driven-data/cloud-cover/train_labels/zxuw.tif\n",
       "11746   3875    zxvi  /driven-data/cloud-cover/train_labels/zxvi.tif\n",
       "11747   3876    zxzj  /driven-data/cloud-cover/train_labels/zxzj.tif\n",
       "\n",
       "[11748 rows x 3 columns]"
      ]
     },
     "execution_count": 6,
     "metadata": {},
     "output_type": "execute_result"
    }
   ],
   "source": [
    "all_y"
   ]
  },
  {
   "cell_type": "code",
   "execution_count": 7,
   "id": "3e63f0fc-114e-475b-ad1c-9de79f0a8185",
   "metadata": {},
   "outputs": [],
   "source": [
    "train_transforms = A.Compose(\n",
    "        [\n",
    "            # A.Resize(height=256, width=256),\n",
    "            A.Rotate(limit=60, p=0.6),\n",
    "            A.HorizontalFlip(p=0.5),\n",
    "            A.VerticalFlip(p=0.5),\n",
    "            ToTensorV2(),\n",
    "        ],\n",
    "    )\n",
    "\n",
    "val_transforms = A.Compose(\n",
    "    [\n",
    "        # A.Resize(height=256, width=256),\n",
    "        ToTensorV2(),\n",
    "    ]\n",
    ")"
   ]
  },
  {
   "cell_type": "code",
   "execution_count": 8,
   "id": "8de69a7b-8ab2-40ae-9bf7-1944cc7a9b00",
   "metadata": {},
   "outputs": [],
   "source": [
    "trainset = CloudDataset(train_x, BANDS, train_y, train_transforms, norm = True)\n",
    "valset = CloudDataset(val_x, BANDS, val_y, val_transforms, norm = True)\n",
    "allset = CloudDataset(all_x, BANDS, all_y, train_transforms, norm = True)"
   ]
  },
  {
   "cell_type": "code",
   "execution_count": 9,
   "id": "163cdd5a-ac28-4c07-80d5-cf8c92828f6d",
   "metadata": {},
   "outputs": [],
   "source": [
    "train_loader = DataLoader(dataset = trainset, batch_size = 16, shuffle=True, pin_memory=True, num_workers=4)\n",
    "val_loader = DataLoader(dataset = valset, batch_size = 16, shuffle = False, pin_memory=True, num_workers=4)\n",
    "all_loader  = DataLoader(dataset = allset, batch_size = 16, shuffle = True, pin_memory=True, num_workers=4)"
   ]
  },
  {
   "cell_type": "code",
   "execution_count": 11,
   "id": "a103becc-a5dd-469b-8cdb-a0c8bafc526b",
   "metadata": {},
   "outputs": [],
   "source": [
    "model = smp.DeepLabV3Plus(\n",
    "    encoder_name=\"resnext101_32x4d\",        # choose encoder, e.g. mobilenet_v2 or efficientnet-b7\n",
    "    encoder_weights=\"ssl\",     # use `imagenet` pre-trained weights for encoder initialization\n",
    "    in_channels=4,                  # model input channels (1 for gray-scale images, 3 for RGB, etc.)\n",
    "    classes=2,                      # model output channels (number of classes in your dataset)\n",
    ").to(device)"
   ]
  },
  {
   "cell_type": "code",
   "execution_count": 13,
   "id": "5e3980c6-cbef-4ddb-9e49-b3c339941878",
   "metadata": {},
   "outputs": [],
   "source": [
    "all_loader = [train_loader, val_loader]"
   ]
  },
  {
   "cell_type": "code",
   "execution_count": 12,
   "id": "fc8937bc-6d8e-4bf8-9dda-1f1c8c12ead0",
   "metadata": {},
   "outputs": [
    {
     "name": "stdout",
     "output_type": "stream",
     "text": [
      "Requirement already satisfied: torchinfo in /srv/conda/envs/notebook/lib/python3.8/site-packages (1.6.3)\n"
     ]
    }
   ],
   "source": [
    "!pip install torchinfo"
   ]
  },
  {
   "cell_type": "code",
   "execution_count": 13,
   "id": "6150f471-459c-4e23-b307-f1f334b7bd95",
   "metadata": {},
   "outputs": [],
   "source": [
    "# from torchinfo import summary\n",
    "# summary(model, input_size=(16, 4, 512, 512))"
   ]
  },
  {
   "cell_type": "code",
   "execution_count": 14,
   "id": "6829f19f-3b10-4b68-8bd2-59bb5bbf6d6a",
   "metadata": {},
   "outputs": [],
   "source": [
    "loss_fn = nn.CrossEntropyLoss()\n",
    "optimizer = optim.Adam(model.parameters(), lr = 0.00005)\n",
    "scaler = torch.cuda.amp.GradScaler()"
   ]
  },
  {
   "cell_type": "code",
   "execution_count": 15,
   "id": "8c7a22a5-9d08-43b3-81dc-4cc71f950392",
   "metadata": {},
   "outputs": [
    {
     "data": {
      "text/plain": [
       "<All keys matched successfully>"
      ]
     },
     "execution_count": 15,
     "metadata": {},
     "output_type": "execute_result"
    }
   ],
   "source": [
    "model.load_state_dict(torch.load(\"AGall0deep_plus.pt\"))"
   ]
  },
  {
   "cell_type": "code",
   "execution_count": 16,
   "id": "38ecaf1d-9ff7-4a92-a12d-f2792151d88b",
   "metadata": {},
   "outputs": [],
   "source": [
    "def train_fn(loader, model, optimizer,loss_fn, scaler):\n",
    "    loadtq = tqdm_notebook(loader, desc = \"batches\")\n",
    "    for it in loadtq:\n",
    "        data = it[\"chip\"].type(torch.FloatTensor)\n",
    "        targets = it[\"label\"]\n",
    "        data = data.to(device)\n",
    "        targets = targets.type(torch.LongTensor).to(device)\n",
    "        with torch.cuda.amp.autocast():\n",
    "            predictions = model(data)\n",
    "            # print(predictions.shape)\n",
    "            # print(predictions[\"out\"].shape)\n",
    "            loss = loss_fn(predictions, targets)\n",
    "            loss = loss.to(device)\n",
    "            \n",
    "        optimizer.zero_grad()\n",
    "        scaler.scale(loss).backward()\n",
    "        scaler.step(optimizer)\n",
    "        scaler.update()\n",
    "        \n",
    "        loadtq.set_postfix(loss=loss.item())"
   ]
  },
  {
   "cell_type": "code",
   "execution_count": 1,
   "id": "22c203de-ccf8-4bfe-8007-ca2046f7ff29",
   "metadata": {},
   "outputs": [],
   "source": [
    "for i in range(25):\n",
    "    train_fn(all_loader, model, optimizer, loss_fn, scaler)\n",
    "    torch.save(model.state_dict(), f\"OOAGall{i}deep_plus.pt\" )"
   ]
  },
  {
   "cell_type": "code",
   "execution_count": null,
   "id": "4241dff5-4db5-4921-8672-8e09a090465e",
   "metadata": {},
   "outputs": [],
   "source": [
    "model.eval()\n",
    "ioulis = []\n",
    "loadtq  = tqdm_notebook(val_loader)\n",
    "\n",
    "with torch.no_grad():\n",
    "    for it in loadtq:\n",
    "        inpic = it[\"chip\"].to(device).type(torch.cuda.FloatTensor)\n",
    "        true = it[\"label\"].squeeze()\n",
    "        pred = model(inpic)\n",
    "        predic = torch.argmax(pred, dim = 1).squeeze()\n",
    "        iou = intersection_over_union(predic.detach().to(\"cpu\"), true.detach().to(\"cpu\"))\n",
    "        ioulis.append(iou)\n",
    "        loadtq.set_postfix(iou = iou)\n",
    "    \n",
    "model.train()"
   ]
  },
  {
   "cell_type": "code",
   "execution_count": null,
   "id": "d07d22c9-c73a-4797-baa8-bd43ee3e1ba0",
   "metadata": {},
   "outputs": [],
   "source": [
    "ioulis = np.array(ioulis)"
   ]
  },
  {
   "cell_type": "code",
   "execution_count": null,
   "id": "6bfc2472-f35c-4004-9475-a9ae16e3f1b2",
   "metadata": {},
   "outputs": [],
   "source": [
    "ioulis.mean()"
   ]
  },
  {
   "cell_type": "code",
   "execution_count": null,
   "id": "66a90f59-7f4a-4ebe-ae0c-c50d2587809e",
   "metadata": {},
   "outputs": [],
   "source": []
  }
 ],
 "metadata": {
  "kernelspec": {
   "display_name": "Python 3 (ipykernel)",
   "language": "python",
   "name": "python3"
  },
  "language_info": {
   "codemirror_mode": {
    "name": "ipython",
    "version": 3
   },
   "file_extension": ".py",
   "mimetype": "text/x-python",
   "name": "python",
   "nbconvert_exporter": "python",
   "pygments_lexer": "ipython3",
   "version": "3.8.12"
  }
 },
 "nbformat": 4,
 "nbformat_minor": 5
}
