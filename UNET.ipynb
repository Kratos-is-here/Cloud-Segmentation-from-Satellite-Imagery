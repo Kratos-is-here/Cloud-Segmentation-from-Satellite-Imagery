{
 "cells": [
  {
   "cell_type": "code",
   "execution_count": 10,
   "id": "9a1ea2d2-f600-4f62-857a-e192e6b9dce5",
   "metadata": {},
   "outputs": [],
   "source": [
    "from cloud_dataset import CloudDataset\n",
    "import pandas as pd\n",
    "import matplotlib.pyplot as plt\n",
    "import torch\n",
    "from torch.utils.data import DataLoader\n",
    "import torchvision.transforms.functional as TF\n",
    "import torch.nn as nn\n",
    "import numpy as np\n",
    "import albumentations as A\n",
    "import torch.optim as optim\n",
    "from albumentations.pytorch.transforms import ToTensorV2\n",
    "import warnings\n",
    "warnings.filterwarnings(\"ignore\")\n",
    "import torchvision.transforms as transforms\n",
    "from PIL import Image as im\n",
    "from tqdm.notebook import tqdm_notebook\n",
    "import torch.nn.functional as F"
   ]
  },
  {
   "cell_type": "code",
   "execution_count": 11,
   "id": "ff4bdc2d-b128-4034-ad38-6819b87df3d6",
   "metadata": {},
   "outputs": [],
   "source": [
    "device = \"cuda\" if torch.cuda.is_available() else \"cpu\""
   ]
  },
  {
   "cell_type": "code",
   "execution_count": 12,
   "id": "451dab3a-6240-478c-baf1-f6a6f262b6ca",
   "metadata": {},
   "outputs": [],
   "source": [
    "BANDS = [\"B02\", \"B03\", \"B04\", \"B08\"]"
   ]
  },
  {
   "cell_type": "code",
   "execution_count": 13,
   "id": "16a47d5d-74c0-4ede-845f-610a0be65331",
   "metadata": {},
   "outputs": [],
   "source": [
    "train_transforms = A.Compose(\n",
    "        [\n",
    "            A.Resize(height=128, width=128),\n",
    "            A.Rotate(limit=60, p=0.6),\n",
    "            A.HorizontalFlip(p=0.5),\n",
    "            A.VerticalFlip(p=0.5),\n",
    "            A.Normalize(\n",
    "                mean=0.0,\n",
    "                std=1.0,\n",
    "                max_pixel_value=255.0,\n",
    "            ),\n",
    "            ToTensorV2(),\n",
    "        ],\n",
    "    )\n",
    "\n",
    "val_transforms = A.Compose(\n",
    "    [\n",
    "        A.Resize(height=128, width= 128),\n",
    "        A.Normalize(\n",
    "            mean = 0.0,\n",
    "            std = 1.0, \n",
    "            max_pixel_value = 255.0,\n",
    "        ),\n",
    "        ToTensorV2(),\n",
    "    ]\n",
    ")"
   ]
  },
  {
   "cell_type": "code",
   "execution_count": 14,
   "id": "1f84ac79-17ae-46c8-868f-8d1467aa2321",
   "metadata": {},
   "outputs": [],
   "source": [
    "train_x = pd.read_csv(\"data/train_x.csv\").drop(columns = \"Unnamed: 0\")\n",
    "train_y = pd.read_csv(\"data/train_y.csv\").drop(columns = \"Unnamed: 0\")  \n",
    "val_x = pd.read_csv(\"data/val_x.csv\").drop(columns = \"Unnamed: 0\")    \n",
    "val_y = pd.read_csv(\"data/val_y.csv\").drop(columns = \"Unnamed: 0\")"
   ]
  },
  {
   "cell_type": "code",
   "execution_count": 15,
   "id": "c128cc44-3fdd-4c4c-932c-5e5260139cc8",
   "metadata": {},
   "outputs": [],
   "source": [
    "trainset = CloudDataset(train_x, BANDS, train_y, transforms=train_transforms)\n",
    "valset = CloudDataset(val_x, BANDS, val_y, transforms=val_transforms)"
   ]
  },
  {
   "cell_type": "code",
   "execution_count": 16,
   "id": "fadc946e-bc77-4f36-9d70-0db558b8180c",
   "metadata": {},
   "outputs": [],
   "source": [
    "train_loader = DataLoader(dataset = trainset, batch_size = 64, shuffle=True, pin_memory=True, num_workers=1)\n",
    "val_loader = DataLoader(dataset = valset, batch_size = 64, shuffle = True, pin_memory=True, num_workers=1)"
   ]
  },
  {
   "cell_type": "code",
   "execution_count": 17,
   "id": "3f1b8395-4066-4b08-85fa-f1f0c7c8b323",
   "metadata": {},
   "outputs": [],
   "source": [
    "from focal_loss.focal_loss import FocalLoss"
   ]
  },
  {
   "cell_type": "code",
   "execution_count": 20,
   "id": "a5c755f8-62e3-4899-b058-dd475fd671f3",
   "metadata": {},
   "outputs": [],
   "source": [
    "import torch\n",
    "import torch.nn as nn\n",
    "import torchvision.transforms.functional as TF\n",
    "\n",
    "class DoubleConv(nn.Module):\n",
    "    def __init__(self, in_channels, out_channels):\n",
    "        super(DoubleConv, self).__init__()\n",
    "        self.conv = nn.Sequential(\n",
    "            nn.Conv2d(in_channels, out_channels, 3, 1, 1, bias=False),\n",
    "            nn.BatchNorm2d(out_channels),\n",
    "            nn.ReLU(inplace=True),\n",
    "            nn.Conv2d(out_channels, out_channels, 3, 1, 1, bias=False),\n",
    "            nn.BatchNorm2d(out_channels),\n",
    "            nn.ReLU(inplace=True),\n",
    "        )\n",
    "\n",
    "    def forward(self, x):\n",
    "        return self.conv(x)\n",
    "\n",
    "class UNET(nn.Module):\n",
    "    def __init__(\n",
    "            self, in_channels=4, out_channels=1, features=[64, 128, 256, 512],\n",
    "    ):\n",
    "        super(UNET, self).__init__()\n",
    "        self.downs = nn.ModuleList()\n",
    "        self.ups = nn.ModuleList()\n",
    "        self.pool = nn.MaxPool2d(kernel_size=2, stride=2)\n",
    "\n",
    "        # Down part of UNET\n",
    "        for feature in features:\n",
    "            self.downs.append(DoubleConv(in_channels, feature))\n",
    "            in_channels = feature\n",
    "\n",
    "        # Up part of UNET\n",
    "        for feature in reversed(features):\n",
    "            self.ups.append(\n",
    "                nn.ConvTranspose2d(\n",
    "                    feature*2, feature, kernel_size=2, stride=2,\n",
    "                )\n",
    "            )\n",
    "            self.ups.append(DoubleConv(feature*2, feature))\n",
    "\n",
    "        self.bottleneck = DoubleConv(features[-1], features[-1]*2)\n",
    "        self.final_conv = nn.Conv2d(features[0], out_channels, kernel_size=1)\n",
    "\n",
    "    def forward(self, x):\n",
    "        skip_connections = []\n",
    "\n",
    "        for down in self.downs:\n",
    "            x = down(x)\n",
    "            skip_connections.append(x)\n",
    "            x = self.pool(x)\n",
    "\n",
    "        x = self.bottleneck(x)\n",
    "        skip_connections = skip_connections[::-1]\n",
    "\n",
    "        for idx in range(0, len(self.ups), 2):\n",
    "            x = self.ups[idx](x)\n",
    "            skip_connection = skip_connections[idx//2]\n",
    "\n",
    "            if x.shape != skip_connection.shape:\n",
    "                x = TF.resize(x, size=skip_connection.shape[2:])\n",
    "\n",
    "            concat_skip = torch.cat((skip_connection, x), dim=1)\n",
    "            x = self.ups[idx+1](concat_skip)\n",
    "\n",
    "        return self.final_conv(x)"
   ]
  },
  {
   "cell_type": "code",
   "execution_count": 21,
   "id": "09a6e80e-5e1e-4110-9293-e897bbc836ae",
   "metadata": {},
   "outputs": [
    {
     "name": "stdout",
     "output_type": "stream",
     "text": [
      "torch.Size([64, 1, 128, 128])\n"
     ]
    }
   ],
   "source": [
    "def test():\n",
    "    x = torch.randn((64, 4, 128, 128))\n",
    "    model = UNET(in_channels=4, out_channels=1)\n",
    "    preds = model(x)\n",
    "    print(preds.shape)\n",
    "    assert preds.shape[0] == x.shape[0]\n",
    "    assert preds.shape[2] == x.shape[2]\n",
    "    assert preds.shape[3] == x.shape[3]\n",
    "    \n",
    "test()"
   ]
  },
  {
   "cell_type": "code",
   "execution_count": 22,
   "id": "463ed18e-cfd3-4f6a-b260-2c2b0f8b7b34",
   "metadata": {},
   "outputs": [],
   "source": [
    "from tqdm import tqdm\n",
    "torch.backends.cudnn.benchmark=True"
   ]
  },
  {
   "cell_type": "code",
   "execution_count": 23,
   "id": "784470b8-636d-4785-844d-5a99a2b7fc91",
   "metadata": {},
   "outputs": [],
   "source": [
    "model = UNET(in_channels = 4, out_channels = 1).to(device)\n",
    "\n",
    "loss_fn = nn.BCEWithLogitsLoss()\n",
    "\n",
    "optimizer = optim.Adam(model.parameters(), lr = 0.0003)\n",
    "# scheduler = optim.lr_scheduler.ReduceLROnPlateau(optimizer, patience=3, verbose=True)\n",
    "\n",
    "scaler = torch.cuda.amp.GradScaler()"
   ]
  },
  {
   "cell_type": "code",
   "execution_count": 24,
   "id": "1e2fd626-6ef5-40e8-82b4-18c21054a4ca",
   "metadata": {},
   "outputs": [],
   "source": [
    "torch.cuda.empty_cache()"
   ]
  },
  {
   "cell_type": "code",
   "execution_count": 25,
   "id": "4df18b23-9cfb-4e20-b7b6-0979f43d692e",
   "metadata": {},
   "outputs": [],
   "source": [
    "def train_fn(loader, model, optimizer,loss_fn, scaler):\n",
    "    loadtq = tqdm_notebook(loader, desc = \"batches\")\n",
    "    for it in loadtq:\n",
    "        data = it[\"chip\"]\n",
    "        targets = it[\"label\"]\n",
    "        data = data.to(device)\n",
    "        targets = targets.float().unsqueeze(1).to(device)\n",
    "        with torch.cuda.amp.autocast():\n",
    "            predictions = model(data)\n",
    "            loss = loss_fn(predictions, targets)\n",
    "            loss = loss.to(device)\n",
    "            \n",
    "        optimizer.zero_grad()\n",
    "        scaler.scale(loss).backward()\n",
    "        scaler.step(optimizer)\n",
    "        scaler.update()\n",
    "        \n",
    "        loadtq.set_postfix(loss=loss.item())"
   ]
  },
  {
   "cell_type": "code",
   "execution_count": null,
   "id": "70fd7540-2a3e-4ed0-b3b2-eb55aca80784",
   "metadata": {},
   "outputs": [
    {
     "data": {
      "application/vnd.jupyter.widget-view+json": {
       "model_id": "49f69ec25e4e45bc82e2356b8afc515d",
       "version_major": 2,
       "version_minor": 0
      },
      "text/plain": [
       "Epoch:   0%|          | 0/20 [00:00<?, ?it/s]"
      ]
     },
     "metadata": {},
     "output_type": "display_data"
    },
    {
     "data": {
      "application/vnd.jupyter.widget-view+json": {
       "model_id": "1e6c02781d1143f0afd12c065ea46d23",
       "version_major": 2,
       "version_minor": 0
      },
      "text/plain": [
       "batches:   0%|          | 0/123 [00:00<?, ?it/s]"
      ]
     },
     "metadata": {},
     "output_type": "display_data"
    },
    {
     "data": {
      "application/vnd.jupyter.widget-view+json": {
       "model_id": "d2dfe7b100394b4184cabb7d2891cdf9",
       "version_major": 2,
       "version_minor": 0
      },
      "text/plain": [
       "batches:   0%|          | 0/123 [00:00<?, ?it/s]"
      ]
     },
     "metadata": {},
     "output_type": "display_data"
    },
    {
     "data": {
      "application/vnd.jupyter.widget-view+json": {
       "model_id": "9874ab6e07bb49d5836b9f946d2482b4",
       "version_major": 2,
       "version_minor": 0
      },
      "text/plain": [
       "batches:   0%|          | 0/123 [00:00<?, ?it/s]"
      ]
     },
     "metadata": {},
     "output_type": "display_data"
    },
    {
     "data": {
      "application/vnd.jupyter.widget-view+json": {
       "model_id": "036c8a12c2684b418994308d5ca9d609",
       "version_major": 2,
       "version_minor": 0
      },
      "text/plain": [
       "batches:   0%|          | 0/123 [00:00<?, ?it/s]"
      ]
     },
     "metadata": {},
     "output_type": "display_data"
    },
    {
     "data": {
      "application/vnd.jupyter.widget-view+json": {
       "model_id": "4fd06115498c4c7eb74913eab8d61e4f",
       "version_major": 2,
       "version_minor": 0
      },
      "text/plain": [
       "batches:   0%|          | 0/123 [00:00<?, ?it/s]"
      ]
     },
     "metadata": {},
     "output_type": "display_data"
    },
    {
     "data": {
      "application/vnd.jupyter.widget-view+json": {
       "model_id": "87238acf751b49c583e68858c074c4df",
       "version_major": 2,
       "version_minor": 0
      },
      "text/plain": [
       "batches:   0%|          | 0/123 [00:00<?, ?it/s]"
      ]
     },
     "metadata": {},
     "output_type": "display_data"
    },
    {
     "data": {
      "application/vnd.jupyter.widget-view+json": {
       "model_id": "fa90df97de354e10bb020d7fad7b987a",
       "version_major": 2,
       "version_minor": 0
      },
      "text/plain": [
       "batches:   0%|          | 0/123 [00:00<?, ?it/s]"
      ]
     },
     "metadata": {},
     "output_type": "display_data"
    },
    {
     "data": {
      "application/vnd.jupyter.widget-view+json": {
       "model_id": "fc4ee9a42218441a9ef23ed8ef365364",
       "version_major": 2,
       "version_minor": 0
      },
      "text/plain": [
       "batches:   0%|          | 0/123 [00:00<?, ?it/s]"
      ]
     },
     "metadata": {},
     "output_type": "display_data"
    },
    {
     "data": {
      "application/vnd.jupyter.widget-view+json": {
       "model_id": "37d7ab8782084dda9c22b80f5be98b57",
       "version_major": 2,
       "version_minor": 0
      },
      "text/plain": [
       "batches:   0%|          | 0/123 [00:00<?, ?it/s]"
      ]
     },
     "metadata": {},
     "output_type": "display_data"
    },
    {
     "data": {
      "application/vnd.jupyter.widget-view+json": {
       "model_id": "a50d88e739ec445a9104e1e7587614f5",
       "version_major": 2,
       "version_minor": 0
      },
      "text/plain": [
       "batches:   0%|          | 0/123 [00:00<?, ?it/s]"
      ]
     },
     "metadata": {},
     "output_type": "display_data"
    },
    {
     "data": {
      "application/vnd.jupyter.widget-view+json": {
       "model_id": "67c743c813014b46b05db8c9b0251fff",
       "version_major": 2,
       "version_minor": 0
      },
      "text/plain": [
       "batches:   0%|          | 0/123 [00:00<?, ?it/s]"
      ]
     },
     "metadata": {},
     "output_type": "display_data"
    },
    {
     "data": {
      "application/vnd.jupyter.widget-view+json": {
       "model_id": "a1618fea8ead4e0087eb1493164ef0f2",
       "version_major": 2,
       "version_minor": 0
      },
      "text/plain": [
       "batches:   0%|          | 0/123 [00:00<?, ?it/s]"
      ]
     },
     "metadata": {},
     "output_type": "display_data"
    }
   ],
   "source": [
    "# num_epoch = 20\n",
    "\n",
    "# for epoch in tqdm_notebook(range(num_epoch), desc=\"Epoch: \"):\n",
    "    \n",
    "#     train_fn(train_loader, model, optimizer, loss_fn, scaler)"
   ]
  },
  {
   "cell_type": "code",
   "execution_count": 43,
   "id": "d7647d05-fe42-437c-84f3-64adab538acf",
   "metadata": {},
   "outputs": [],
   "source": [
    "# torch.save(model.state_dict(), \"uhuhuhhrtrainmodeltrndunetbceloss.pt\")"
   ]
  },
  {
   "cell_type": "code",
   "execution_count": 26,
   "id": "0085e01d-7f00-494f-baf9-84cc081eadcc",
   "metadata": {},
   "outputs": [
    {
     "data": {
      "text/plain": [
       "<All keys matched successfully>"
      ]
     },
     "execution_count": 26,
     "metadata": {},
     "output_type": "execute_result"
    }
   ],
   "source": [
    "model.load_state_dict(torch.load(\"7hrtrainmodeltrndunetbceloss.pt\"))"
   ]
  },
  {
   "cell_type": "code",
   "execution_count": 27,
   "id": "a1fa3890-8608-4ce8-9cf7-4da0868c1399",
   "metadata": {},
   "outputs": [],
   "source": [
    "torch.cuda.empty_cache()"
   ]
  },
  {
   "cell_type": "code",
   "execution_count": 28,
   "id": "c01fd3d6-5f2e-4e25-a92c-a9b1eb2abe45",
   "metadata": {},
   "outputs": [
    {
     "name": "stdout",
     "output_type": "stream",
     "text": [
      "['pdcp', 'nnps', 'btbm', 'hsua', 'sbdd', 'appt', 'xltr', 'tihe', 'xadl', 'wkat', 'zwre', 'xheo', 'dtzu', 'vptv', 'dhnh', 'xvew', 'hwhx', 'lxdb', 'cqik', 'ytgv', 'nckw', 'kskj', 'ylth', 'ytqv', 'aqcp', 'hsfa', 'ndzo', 'zctf', 'bjta', 'zcug', 'nnel', 'xufn', 'hsow', 'odes', 'pcpk', 'afxz', 'foyv', 'ktef', 'xsjg', 'svvi', 'hpqn', 'ynjd', 'ddyg', 'clpq', 'ygsh', 'cqbi', 'news', 'atft', 'suwn', 'dzea', 'yblf', 'atna', 'ctzz', 'djte', 'dazo', 'xztf', 'wazt', 'tkhh', 'bjsl', 'ymmb', 'atlg', 'rtcx', 'hnmv', 'gggd']\n",
      "torch.Size([64, 4, 128, 128])\n",
      "torch.Size([64, 1, 128, 128])\n",
      "torch.Size([64, 128, 128])\n"
     ]
    }
   ],
   "source": [
    "ehe = 0\n",
    "for it in val_loader:\n",
    "    data = it[\"chip\"].to(device)\n",
    "    pred = model(data)\n",
    "    true = it[\"label\"].to(device)\n",
    "    print(it[\"chip_id\"])\n",
    "    \n",
    "    print(data.shape)\n",
    "    print(pred.shape)\n",
    "    print(true.shape)\n",
    "    \n",
    "    ehe+=1\n",
    "    if(ehe>0): break"
   ]
  },
  {
   "cell_type": "code",
   "execution_count": 42,
   "id": "f0e0be8a-87fd-4876-b28e-83a99834b13f",
   "metadata": {},
   "outputs": [
    {
     "ename": "RuntimeError",
     "evalue": "number of dims don't match in permute",
     "output_type": "error",
     "traceback": [
      "\u001b[0;31m---------------------------------------------------------------------------\u001b[0m",
      "\u001b[0;31mRuntimeError\u001b[0m                              Traceback (most recent call last)",
      "Input \u001b[0;32mIn [42]\u001b[0m, in \u001b[0;36m<module>\u001b[0;34m\u001b[0m\n\u001b[0;32m----> 1\u001b[0m plt\u001b[38;5;241m.\u001b[39mimshow(\u001b[43mtrue\u001b[49m\u001b[38;5;241;43m.\u001b[39;49m\u001b[43mto\u001b[49m\u001b[43m(\u001b[49m\u001b[38;5;124;43m\"\u001b[39;49m\u001b[38;5;124;43mcpu\u001b[39;49m\u001b[38;5;124;43m\"\u001b[39;49m\u001b[43m)\u001b[49m\u001b[38;5;241;43m.\u001b[39;49m\u001b[43mpermute\u001b[49m\u001b[43m(\u001b[49m\u001b[38;5;241;43m1\u001b[39;49m\u001b[43m,\u001b[49m\u001b[43m \u001b[49m\u001b[38;5;241;43m2\u001b[39;49m\u001b[43m,\u001b[49m\u001b[43m \u001b[49m\u001b[38;5;241;43m0\u001b[39;49m\u001b[43m)\u001b[49m[:, :, \u001b[38;5;241m40\u001b[39m])\n",
      "\u001b[0;31mRuntimeError\u001b[0m: number of dims don't match in permute"
     ]
    }
   ],
   "source": [
    "plt.imshow(true.to(\"cpu\").permute(1, 2, 0)[:, :, 40])"
   ]
  },
  {
   "cell_type": "code",
   "execution_count": 47,
   "id": "4daa0a11-aec3-4707-a92f-2238c1f31d0d",
   "metadata": {},
   "outputs": [
    {
     "data": {
      "text/plain": [
       "tensor([[-1.6895, -2.3259, -2.4247,  ..., -2.1637, -2.0317, -1.4372],\n",
       "        [-2.2764, -2.7047, -2.8707,  ..., -2.5671, -2.3541, -2.0715],\n",
       "        [-2.3023, -2.7032, -2.9910,  ..., -2.8330, -2.5827, -2.2181],\n",
       "        ...,\n",
       "        [-2.3308, -2.7172, -2.9469,  ..., -2.1334, -2.3282, -2.2154],\n",
       "        [-2.2617, -2.5721, -2.8921,  ..., -2.1081, -2.2262, -2.1132],\n",
       "        [-1.7637, -2.2512, -2.4506,  ..., -2.0488, -2.0870, -1.4998]])"
      ]
     },
     "execution_count": 47,
     "metadata": {},
     "output_type": "execute_result"
    },
    {
     "data": {
      "image/png": "[encoded data removed]",
      "text/plain": [
       "<Figure size 432x288 with 1 Axes>"
      ]
     },
     "metadata": {
      "needs_background": "light"
     },
     "output_type": "display_data"
    }
   ],
   "source": [
    "plt.imshow(pred.to(\"cpu\").detach().permute(2, 3, 1, 0)[:, :, 0, 2]>0)\n",
    "pred.to(\"cpu\").detach().permute(2, 3, 1, 0)[:, :, 0, 2]"
   ]
  },
  {
   "cell_type": "code",
   "execution_count": 46,
   "id": "e404e465-d2d7-4f91-9781-518629005667",
   "metadata": {},
   "outputs": [
    {
     "data": {
      "text/plain": [
       "<matplotlib.image.AxesImage at 0x7f00928db4f0>"
      ]
     },
     "execution_count": 46,
     "metadata": {},
     "output_type": "execute_result"
    },
    {
     "data": {
      "image/png": "[encoded data removed]",
      "text/plain": [
       "<Figure size 432x288 with 1 Axes>"
      ]
     },
     "metadata": {
      "needs_background": "light"
     },
     "output_type": "display_data"
    }
   ],
   "source": [
    "plt.imshow(data.to(\"cpu\").detach().permute(2, 3, 1, 0)[:, :, 0, 2])"
   ]
  },
  {
   "cell_type": "code",
   "execution_count": 32,
   "id": "aab0a9de-1f40-46dc-bbb8-b3cf98d0984c",
   "metadata": {},
   "outputs": [],
   "source": [
    "true = true.unsqueeze(1)"
   ]
  },
  {
   "cell_type": "code",
   "execution_count": 33,
   "id": "218aa94b-ab78-4812-ad57-17f178ce6962",
   "metadata": {},
   "outputs": [
    {
     "data": {
      "text/plain": [
       "tensor(-0.8036, device='cuda:0',\n",
       "       grad_fn=<BinaryCrossEntropyWithLogitsBackward0>)"
      ]
     },
     "execution_count": 33,
     "metadata": {},
     "output_type": "execute_result"
    }
   ],
   "source": [
    "loss_fn(true, pred)"
   ]
  },
  {
   "cell_type": "code",
   "execution_count": null,
   "id": "64396ade-c232-45eb-88ff-3a7dc4d14d62",
   "metadata": {},
   "outputs": [],
   "source": []
  },
  {
   "cell_type": "code",
   "execution_count": null,
   "id": "5d341d4b-6ebd-44c9-b780-dcc780a8b4f2",
   "metadata": {},
   "outputs": [],
   "source": []
  }
 ],
 "metadata": {
  "kernelspec": {
   "display_name": "Python 3 (ipykernel)",
   "language": "python",
   "name": "python3"
  },
  "language_info": {
   "codemirror_mode": {
    "name": "ipython",
    "version": 3
   },
   "file_extension": ".py",
   "mimetype": "text/x-python",
   "name": "python",
   "nbconvert_exporter": "python",
   "pygments_lexer": "ipython3",
   "version": "3.8.12"
  }
 },
 "nbformat": 4,
 "nbformat_minor": 5
}
